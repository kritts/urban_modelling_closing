{
 "cells": [
  {
   "cell_type": "code",
   "execution_count": 13,
   "metadata": {
    "collapsed": false
   },
   "outputs": [],
   "source": [
    "import numpy as np  \n",
    "seed = 7\n",
    "np.random.seed(seed)"
   ]
  },
  {
   "cell_type": "code",
   "execution_count": 157,
   "metadata": {
    "collapsed": false
   },
   "outputs": [
    {
     "name": "stdout",
     "output_type": "stream",
     "text": [
      "143\n"
     ]
    }
   ],
   "source": [
    "from sklearn.model_selection import train_test_split\n",
    "from sklearn.preprocessing import StandardScaler \n",
    "from sklearn import metrics\n",
    "import pandas as pd\n",
    "import pandas\n",
    "import numpy as np\n",
    "\n",
    "NUM_FEATURES = 31\n",
    " \n",
    "dataframe_ny = pandas.read_csv(\"data/features_feb7_ny_counts-updated-.csv\", header=0)\n",
    "established_ny = dataframe_ny[dataframe_ny.stable==1] # established \n",
    "new_ny = dataframe_ny[dataframe_ny.stable==0] # new\n",
    "\n",
    "dataframe_sg = pandas.read_csv(\"data/features_feb5_both.csv\", header=0)\n",
    "established_sg = dataframe_sg[dataframe_sg.stable==1] # established \n",
    "new_sg = dataframe_sg[dataframe_sg.stable==0] # new\n",
    "\n",
    "dataframe_lon = pandas.read_csv(\"data/features_feb7_both_london.csv\", header=0)\n",
    "established_lon = dataframe_lon[dataframe_lon.stable==1] # established \n",
    "new_lon = dataframe_lon[dataframe_lon.stable==0] # new\n",
    "\n",
    "dataframe_paris = pandas.read_csv(\"data/features_feb7_both_paris.csv\", header=0)\n",
    "established_paris = dataframe_paris[dataframe_paris.stable==1] # established \n",
    "new_paris = dataframe_paris[dataframe_paris.stable==0] # new\n",
    "\n",
    "\n",
    "#dataframe = pd.concat([established_sg, established_ny, established_lon, established_paris], ignore_index=True) \n",
    "dataframe = pd.concat([new_sg, new_ny, new_lon, new_paris], ignore_index=True) \n",
    " \n",
    "# category 0 defines venues that closed \n",
    "# since we expect to have more venues that remained open than those that \n",
    "# closed, we select all of the closed venues and then a random sample of \n",
    "# opened venues of the same size, created balanced classes\n",
    "class_one = dataframe[dataframe.label==0]\n",
    "class_two = dataframe[dataframe.label==1].sample(n=len(class_one), replace=False)\n",
    "dataset = pd.concat([class_one, class_two], ignore_index=True)\n",
    "dataset = dataset.values \n",
    " \n",
    "X = dataset[:, 0:NUM_FEATURES]\n",
    "y = dataset[:, NUM_FEATURES]\n",
    "print len(class_one)"
   ]
  },
  {
   "cell_type": "code",
   "execution_count": null,
   "metadata": {
    "collapsed": false
   },
   "outputs": [],
   "source": []
  },
  {
   "cell_type": "code",
   "execution_count": 158,
   "metadata": {
    "collapsed": false
   },
   "outputs": [
    {
     "name": "stdout",
     "output_type": "stream",
     "text": [
      "1.0    0.5\n",
      "0.0    0.5\n",
      "dtype: float64\n",
      "1.0    0.5\n",
      "0.0    0.5\n",
      "dtype: float64\n",
      "58 228\n"
     ]
    }
   ],
   "source": [
    "X_train, X_test, y_train, y_test = train_test_split(X, y, test_size=0.20, random_state=42,stratify=y)\n",
    "\n",
    "std_scale = StandardScaler().fit(X_train)\n",
    "X_train = std_scale.transform(X_train)\n",
    "X_test = std_scale.transform(X_test)\n",
    "\n",
    "X_train.shape, X_test.shape, y_train.shape, y_test.shape\n",
    "\n",
    "# print the distribution of classes on train/test\n",
    "print pd.value_counts(pd.Series(y_test), normalize=True)\n",
    "print pd.value_counts(pd.Series(y_train), normalize=True)\n",
    "print len(y_test), len(y_train)"
   ]
  },
  {
   "cell_type": "code",
   "execution_count": 159,
   "metadata": {
    "collapsed": false
   },
   "outputs": [
    {
     "name": "stdout",
     "output_type": "stream",
     "text": [
      "0.637931034483\n",
      "0.667063020214\n",
      "             precision    recall  f1-score   support\n",
      "\n",
      "        0.0       0.67      0.55      0.60        29\n",
      "        1.0       0.62      0.72      0.67        29\n",
      "\n",
      "avg / total       0.64      0.64      0.64        58\n",
      "\n"
     ]
    },
    {
     "data": {
      "text/html": [
       "<div>\n",
       "<style>\n",
       "    .dataframe thead tr:only-child th {\n",
       "        text-align: right;\n",
       "    }\n",
       "\n",
       "    .dataframe thead th {\n",
       "        text-align: left;\n",
       "    }\n",
       "\n",
       "    .dataframe tbody tr th {\n",
       "        vertical-align: top;\n",
       "    }\n",
       "</style>\n",
       "<table border=\"1\" class=\"dataframe\">\n",
       "  <thead>\n",
       "    <tr style=\"text-align: right;\">\n",
       "      <th></th>\n",
       "      <th>0</th>\n",
       "      <th>0</th>\n",
       "    </tr>\n",
       "  </thead>\n",
       "  <tbody>\n",
       "    <tr>\n",
       "      <th>0</th>\n",
       "      <td>venue</td>\n",
       "      <td>0.193056</td>\n",
       "    </tr>\n",
       "    <tr>\n",
       "      <th>1</th>\n",
       "      <td>in_sur</td>\n",
       "      <td>-0.524912</td>\n",
       "    </tr>\n",
       "    <tr>\n",
       "      <th>2</th>\n",
       "      <td>out_sur</td>\n",
       "      <td>-0.140194</td>\n",
       "    </tr>\n",
       "    <tr>\n",
       "      <th>3</th>\n",
       "      <td>ratio_sur</td>\n",
       "      <td>-0.210920</td>\n",
       "    </tr>\n",
       "    <tr>\n",
       "      <th>4</th>\n",
       "      <td>in_raw</td>\n",
       "      <td>0.564214</td>\n",
       "    </tr>\n",
       "    <tr>\n",
       "      <th>5</th>\n",
       "      <td>out_raw</td>\n",
       "      <td>0.157652</td>\n",
       "    </tr>\n",
       "    <tr>\n",
       "      <th>6</th>\n",
       "      <td>ratio_raw</td>\n",
       "      <td>-0.161917</td>\n",
       "    </tr>\n",
       "    <tr>\n",
       "      <th>7</th>\n",
       "      <td>dist_sur_ent</td>\n",
       "      <td>0.025863</td>\n",
       "    </tr>\n",
       "    <tr>\n",
       "      <th>8</th>\n",
       "      <td>dist_sur_ent_std</td>\n",
       "      <td>0.302265</td>\n",
       "    </tr>\n",
       "    <tr>\n",
       "      <th>9</th>\n",
       "      <td>dis_sur_lea</td>\n",
       "      <td>0.638223</td>\n",
       "    </tr>\n",
       "    <tr>\n",
       "      <th>10</th>\n",
       "      <td>dis_sur_ent_std</td>\n",
       "      <td>0.451566</td>\n",
       "    </tr>\n",
       "    <tr>\n",
       "      <th>11</th>\n",
       "      <td>speed_sur_ent</td>\n",
       "      <td>-0.168683</td>\n",
       "    </tr>\n",
       "    <tr>\n",
       "      <th>12</th>\n",
       "      <td>speed_sur_ent_std</td>\n",
       "      <td>0.445892</td>\n",
       "    </tr>\n",
       "    <tr>\n",
       "      <th>13</th>\n",
       "      <td>speed_sur_lea</td>\n",
       "      <td>-0.052663</td>\n",
       "    </tr>\n",
       "    <tr>\n",
       "      <th>14</th>\n",
       "      <td>speed_sur_lea_std</td>\n",
       "      <td>-0.207624</td>\n",
       "    </tr>\n",
       "    <tr>\n",
       "      <th>15</th>\n",
       "      <td>dis_ent</td>\n",
       "      <td>0.880179</td>\n",
       "    </tr>\n",
       "    <tr>\n",
       "      <th>16</th>\n",
       "      <td>dis_ent_std</td>\n",
       "      <td>-0.434655</td>\n",
       "    </tr>\n",
       "    <tr>\n",
       "      <th>17</th>\n",
       "      <td>dis_lea</td>\n",
       "      <td>-0.637425</td>\n",
       "    </tr>\n",
       "    <tr>\n",
       "      <th>18</th>\n",
       "      <td>dis_lea_std</td>\n",
       "      <td>0.126408</td>\n",
       "    </tr>\n",
       "    <tr>\n",
       "      <th>19</th>\n",
       "      <td>speed_ent</td>\n",
       "      <td>0.390070</td>\n",
       "    </tr>\n",
       "    <tr>\n",
       "      <th>20</th>\n",
       "      <td>speed_ent_std</td>\n",
       "      <td>-0.105193</td>\n",
       "    </tr>\n",
       "    <tr>\n",
       "      <th>21</th>\n",
       "      <td>speed_lea</td>\n",
       "      <td>-0.200792</td>\n",
       "    </tr>\n",
       "    <tr>\n",
       "      <th>22</th>\n",
       "      <td>speed_lea_std</td>\n",
       "      <td>-0.555321</td>\n",
       "    </tr>\n",
       "    <tr>\n",
       "      <th>23</th>\n",
       "      <td>spec_idx</td>\n",
       "      <td>0.413843</td>\n",
       "    </tr>\n",
       "    <tr>\n",
       "      <th>24</th>\n",
       "      <td>gen_idx</td>\n",
       "      <td>-0.192996</td>\n",
       "    </tr>\n",
       "    <tr>\n",
       "      <th>25</th>\n",
       "      <td>spec_count</td>\n",
       "      <td>0.000000</td>\n",
       "    </tr>\n",
       "    <tr>\n",
       "      <th>26</th>\n",
       "      <td>gen_count</td>\n",
       "      <td>0.000000</td>\n",
       "    </tr>\n",
       "    <tr>\n",
       "      <th>27</th>\n",
       "      <td>all_count</td>\n",
       "      <td>0.336774</td>\n",
       "    </tr>\n",
       "    <tr>\n",
       "      <th>28</th>\n",
       "      <td>spec_gen</td>\n",
       "      <td>0.000000</td>\n",
       "    </tr>\n",
       "    <tr>\n",
       "      <th>29</th>\n",
       "      <td>gen_all</td>\n",
       "      <td>0.000000</td>\n",
       "    </tr>\n",
       "    <tr>\n",
       "      <th>30</th>\n",
       "      <td>entropy</td>\n",
       "      <td>-0.256555</td>\n",
       "    </tr>\n",
       "  </tbody>\n",
       "</table>\n",
       "</div>"
      ],
      "text/plain": [
       "                    0         0\n",
       "0               venue  0.193056\n",
       "1              in_sur -0.524912\n",
       "2             out_sur -0.140194\n",
       "3           ratio_sur -0.210920\n",
       "4              in_raw  0.564214\n",
       "5             out_raw  0.157652\n",
       "6           ratio_raw -0.161917\n",
       "7        dist_sur_ent  0.025863\n",
       "8    dist_sur_ent_std  0.302265\n",
       "9         dis_sur_lea  0.638223\n",
       "10    dis_sur_ent_std  0.451566\n",
       "11      speed_sur_ent -0.168683\n",
       "12  speed_sur_ent_std  0.445892\n",
       "13      speed_sur_lea -0.052663\n",
       "14  speed_sur_lea_std -0.207624\n",
       "15            dis_ent  0.880179\n",
       "16        dis_ent_std -0.434655\n",
       "17            dis_lea -0.637425\n",
       "18        dis_lea_std  0.126408\n",
       "19          speed_ent  0.390070\n",
       "20      speed_ent_std -0.105193\n",
       "21          speed_lea -0.200792\n",
       "22      speed_lea_std -0.555321\n",
       "23           spec_idx  0.413843\n",
       "24            gen_idx -0.192996\n",
       "25         spec_count  0.000000\n",
       "26          gen_count  0.000000\n",
       "27          all_count  0.336774\n",
       "28           spec_gen  0.000000\n",
       "29            gen_all  0.000000\n",
       "30            entropy -0.256555"
      ]
     },
     "execution_count": 159,
     "metadata": {},
     "output_type": "execute_result"
    }
   ],
   "source": [
    "from sklearn.linear_model import LogisticRegression\n",
    "\n",
    "# logistic regression\n",
    "clf = LogisticRegression(class_weight='balanced')\n",
    "clf.fit(X_train, y_train)\n",
    "\n",
    "predicted = clf.predict(X_test)\n",
    "probs_LR = clf.predict_proba(X_test)\n",
    "\n",
    "print (metrics.accuracy_score(y_test, predicted))\n",
    "print (metrics.roc_auc_score(y_test, probs_LR[:, 1]))\n",
    " \n",
    "print (metrics.classification_report(y_test, predicted))\n",
    "\n",
    "#logistic regression coefficients \n",
    "pd.concat([pd.DataFrame(dataframe.columns)[:-2],pd.DataFrame(np.transpose(clf.coef_))], axis = 1)"
   ]
  },
  {
   "cell_type": "code",
   "execution_count": 160,
   "metadata": {
    "collapsed": false
   },
   "outputs": [
    {
     "name": "stdout",
     "output_type": "stream",
     "text": [
      "0.672413793103\n",
      "0.749108204518\n",
      "             precision    recall  f1-score   support\n",
      "\n",
      "        0.0       0.68      0.66      0.67        29\n",
      "        1.0       0.67      0.69      0.68        29\n",
      "\n",
      "avg / total       0.67      0.67      0.67        58\n",
      "\n"
     ]
    }
   ],
   "source": [
    "from sklearn import ensemble\n",
    "\n",
    "# gradient boosting \n",
    "clf = ensemble.GradientBoostingClassifier()\n",
    "clf.fit(X_train, y_train)\n",
    "\n",
    "predicted = clf.predict(X_test)\n",
    "probs_GB = clf.predict_proba(X_test)\n",
    "\n",
    "print (metrics.accuracy_score(y_test, predicted))\n",
    "print (metrics.roc_auc_score(y_test, probs_GB[:, 1]))\n",
    " \n",
    "print (metrics.classification_report(y_test, predicted)) "
   ]
  },
  {
   "cell_type": "code",
   "execution_count": 161,
   "metadata": {
    "collapsed": false
   },
   "outputs": [
    {
     "name": "stdout",
     "output_type": "stream",
     "text": [
      "0.465517241379\n",
      "0.5\n",
      "             precision    recall  f1-score   support\n",
      "\n",
      "        0.0       0.47      0.52      0.49        29\n",
      "        1.0       0.46      0.41      0.44        29\n",
      "\n",
      "avg / total       0.47      0.47      0.46        58\n",
      "\n"
     ]
    }
   ],
   "source": [
    "from sklearn.dummy import DummyClassifier\n",
    "\n",
    "# random baseline\n",
    "clf = DummyClassifier(strategy='uniform')\n",
    "clf.fit(X_train, y_train)\n",
    "\n",
    "predicted = clf.predict(X_test)\n",
    "probs_random = clf.predict_proba(X_test)\n",
    "\n",
    "print (metrics.accuracy_score(y_test, predicted))\n",
    "print (metrics.roc_auc_score(y_test, probs_random[:, 1]))\n",
    " \n",
    "print (metrics.classification_report(y_test, predicted)) "
   ]
  },
  {
   "cell_type": "code",
   "execution_count": 162,
   "metadata": {
    "collapsed": false
   },
   "outputs": [
    {
     "name": "stdout",
     "output_type": "stream",
     "text": [
      "0.672413793103\n",
      "0.749108204518\n",
      "             precision    recall  f1-score   support\n",
      "\n",
      "        0.0       0.66      0.72      0.69        29\n",
      "        1.0       0.69      0.62      0.65        29\n",
      "\n",
      "avg / total       0.67      0.67      0.67        58\n",
      "\n"
     ]
    }
   ],
   "source": [
    "from sklearn.svm import SVC\n",
    "\n",
    "# svc\n",
    "clf = SVC(probability=True)\n",
    "clf.fit(X_train, y_train)\n",
    "\n",
    "predicted = clf.predict(X_test)\n",
    "probs_SVC = clf.predict_proba(X_test)\n",
    "\n",
    "print (metrics.accuracy_score(y_test, predicted))\n",
    "print (metrics.roc_auc_score(y_test, probs_GB[:, 1]))\n",
    " \n",
    "print (metrics.classification_report(y_test, predicted)) "
   ]
  },
  {
   "cell_type": "code",
   "execution_count": 163,
   "metadata": {
    "collapsed": false
   },
   "outputs": [
    {
     "name": "stdout",
     "output_type": "stream",
     "text": [
      "0.637931034483\n",
      "0.749108204518\n",
      "             precision    recall  f1-score   support\n",
      "\n",
      "        0.0       0.62      0.69      0.66        29\n",
      "        1.0       0.65      0.59      0.62        29\n",
      "\n",
      "avg / total       0.64      0.64      0.64        58\n",
      "\n"
     ]
    }
   ],
   "source": [
    "from sklearn.ensemble import RandomForestClassifier\n",
    "\n",
    "# random forest\n",
    "clf = RandomForestClassifier(random_state=1)\n",
    "clf.fit(X_train, y_train)\n",
    "\n",
    "predicted = clf.predict(X_test)\n",
    "probs_RFC = clf.predict_proba(X_test)\n",
    "\n",
    "print (metrics.accuracy_score(y_test, predicted))\n",
    "print (metrics.roc_auc_score(y_test, probs_GB[:, 1]))\n",
    " \n",
    "print (metrics.classification_report(y_test, predicted)) "
   ]
  },
  {
   "cell_type": "code",
   "execution_count": 164,
   "metadata": {
    "collapsed": false
   },
   "outputs": [
    {
     "name": "stdout",
     "output_type": "stream",
     "text": [
      "0.689655172414\n",
      "0.747919143876\n",
      "             precision    recall  f1-score   support\n",
      "\n",
      "        0.0       0.69      0.69      0.69        29\n",
      "        1.0       0.69      0.69      0.69        29\n",
      "\n",
      "avg / total       0.69      0.69      0.69        58\n",
      "\n"
     ]
    }
   ],
   "source": [
    "from sklearn.neural_network import MLPClassifier\n",
    "\n",
    "# neural net \n",
    "clf = MLPClassifier(solver='lbfgs', alpha=1e-5, hidden_layer_sizes=(15,), random_state=1)\n",
    "clf.fit(X_train, y_train)\n",
    "\n",
    "predicted = clf.predict(X_test)\n",
    "probs_NN = clf.predict_proba(X_test)\n",
    "\n",
    "print (metrics.accuracy_score(y_test, predicted))\n",
    "print (metrics.roc_auc_score(y_test, probs_NN[:, 1]))\n",
    " \n",
    "print (metrics.classification_report(y_test, predicted))"
   ]
  },
  {
   "cell_type": "code",
   "execution_count": 165,
   "metadata": {
    "collapsed": false
   },
   "outputs": [
    {
     "data": {
      "image/png": "[encoded data removed]",
      "text/plain": [
       "<matplotlib.figure.Figure at 0x108d45150>"
      ]
     },
     "metadata": {},
     "output_type": "display_data"
    }
   ],
   "source": [
    "from matplotlib import pyplot as plt\n",
    "\n",
    "# plot area under curve in order to compare multiple classifiers\n",
    "fpr, tpr, _ = metrics.roc_curve(y_test, probs_LR[:, 1]) #classifier 1\n",
    "fpr2, tpr2, _ = metrics.roc_curve(y_test, probs_GB[:, 1]) #classifier 2\n",
    "fpr3, tpr3, _ = metrics.roc_curve(y_test, probs_SVC[:, 1]) #classifier 3\n",
    "fpr4, tpr4, _ = metrics.roc_curve(y_test, probs_RFC[:, 1]) #classifier 3\n",
    "fpr5, tpr5, _ = metrics.roc_curve(y_test, probs_NN[:, 1]) #classifier 3\n",
    "\n",
    "\n",
    "fig = plt.figure(figsize=(12, 8)) #, dpi=100)\n",
    "\n",
    "plt.plot(fpr,tpr, label='Logistic regression') \n",
    "plt.plot(fpr2,tpr2, label='Gradient boosting ')\n",
    "plt.plot(fpr3,tpr3, label='SVC')\n",
    "plt.plot(fpr4,tpr4, label='Random forest')\n",
    "plt.plot(fpr5,tpr5, label='Neural net')\n",
    "plt.plot([0, 1], [0, 1], color='black', linestyle='--', label='Random')\n",
    "plt.legend(loc=\"lower right\") \n",
    "plt.xlabel('False positive rate')\n",
    "plt.ylabel('True positive rate')\n",
    "plt.title('ROC curve')\n",
    "plt.show()"
   ]
  },
  {
   "cell_type": "code",
   "execution_count": null,
   "metadata": {
    "collapsed": false
   },
   "outputs": [],
   "source": []
  },
  {
   "cell_type": "code",
   "execution_count": null,
   "metadata": {
    "collapsed": true
   },
   "outputs": [],
   "source": []
  },
  {
   "cell_type": "code",
   "execution_count": null,
   "metadata": {
    "collapsed": true
   },
   "outputs": [],
   "source": []
  }
 ],
 "metadata": {
  "kernelspec": {
   "display_name": "Python 2",
   "language": "python",
   "name": "python2"
  },
  "language_info": {
   "codemirror_mode": {
    "name": "ipython",
    "version": 2
   },
   "file_extension": ".py",
   "mimetype": "text/x-python",
   "name": "python",
   "nbconvert_exporter": "python",
   "pygments_lexer": "ipython2",
   "version": "2.7.11"
  }
 },
 "nbformat": 4,
 "nbformat_minor": 1
}
