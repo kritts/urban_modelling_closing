{
 "cells": [
  {
   "cell_type": "code",
   "execution_count": 1,
   "metadata": {
    "collapsed": false
   },
   "outputs": [],
   "source": [
    "import numpy as np  \n",
    "seed = 7\n",
    "np.random.seed(seed)"
   ]
  },
  {
   "cell_type": "code",
   "execution_count": 8,
   "metadata": {
    "collapsed": false
   },
   "outputs": [
    {
     "name": "stdout",
     "output_type": "stream",
     "text": [
      "[ 1.  1.  1. ...,  1.  0.  1.]\n",
      "1.0    0.959831\n",
      "0.0    0.040169\n",
      "dtype: float64\n",
      "1.0    0.960183\n",
      "0.0    0.039817\n",
      "dtype: float64\n"
     ]
    }
   ],
   "source": [
    "from sklearn.model_selection import train_test_split\n",
    "from sklearn.preprocessing import StandardScaler\n",
    "from sklearn import metrics\n",
    "import pandas\n",
    "import pandas as pd\n",
    "\n",
    "NUM_FEATURES = 20\n",
    "\n",
    "# features_updated_version_610\n",
    "# features_updated_version_729_kas\n",
    "\n",
    "dataframe = pandas.read_csv(\"features_updated_london.csv\", header=None)\n",
    "dataset = dataframe.values \n",
    "\n",
    "X = dataset[:, 0:NUM_FEATURES]\n",
    "y = dataset[:, NUM_FEATURES]\n",
    "\n",
    "print y\n",
    "X_train, X_test, y_train, y_test = train_test_split(X, y, test_size=0.2, random_state=42,stratify=y)\n",
    "\n",
    "std_scale = StandardScaler().fit(X_train)\n",
    "X_train = std_scale.transform(X_train)\n",
    "X_test = std_scale.transform(X_test)\n",
    "\n",
    "X_train.shape, X_test.shape, y_train.shape, y_test.shape\n",
    "\n",
    "#print the distribution of classes on train/test\n",
    "print pd.value_counts(pd.Series(y_test), normalize=True)\n",
    "print pd.value_counts(pd.Series(y_train), normalize=True)"
   ]
  },
  {
   "cell_type": "code",
   "execution_count": 9,
   "metadata": {
    "collapsed": false
   },
   "outputs": [
    {
     "name": "stdout",
     "output_type": "stream",
     "text": [
      "0.574348132488\n",
      "0.484491331118\n",
      "[[ 25  32]\n",
      " [572 790]]\n",
      "             precision    recall  f1-score   support\n",
      "\n",
      "        0.0       0.04      0.44      0.08        57\n",
      "        1.0       0.96      0.58      0.72      1362\n",
      "\n",
      "avg / total       0.92      0.57      0.70      1419\n",
      "\n",
      "           0\n",
      "0  -0.033596\n",
      "1  -0.306215\n",
      "2   0.037507\n",
      "3   0.059733\n",
      "4   0.139496\n",
      "5   0.119017\n",
      "6   0.513718\n",
      "7  -0.250686\n",
      "8  -0.071347\n",
      "9  -0.254755\n",
      "10 -0.434382\n",
      "11  0.366794\n",
      "12  0.000000\n",
      "13  0.000000\n",
      "14  0.185726\n",
      "15  0.000000\n",
      "16  0.000000\n",
      "17 -0.038538\n",
      "18 -0.019041\n",
      "19  0.034589\n"
     ]
    }
   ],
   "source": [
    "from sklearn.linear_model import LogisticRegression\n",
    "\n",
    "# logistic regression\n",
    "clf = LogisticRegression(class_weight='balanced')\n",
    "clf.fit(X_train, y_train)\n",
    "\n",
    "predicted = clf.predict(X_test)\n",
    "probs_LR = clf.predict_proba(X_test)\n",
    "\n",
    "print (metrics.accuracy_score(y_test, predicted))\n",
    "print (metrics.roc_auc_score(y_test, probs_LR[:, 1]))\n",
    "\n",
    "print (metrics.confusion_matrix(y_test, predicted))\n",
    "print (metrics.classification_report(y_test, predicted))\n",
    "\n",
    "#logistic regression coefficients \n",
    "print pd.DataFrame(np.transpose(clf.coef_)) "
   ]
  },
  {
   "cell_type": "code",
   "execution_count": 10,
   "metadata": {
    "collapsed": false
   },
   "outputs": [
    {
     "name": "stdout",
     "output_type": "stream",
     "text": [
      "0.957716701903\n",
      "0.586263750419\n",
      "[[   0   57]\n",
      " [   3 1359]]\n",
      "             precision    recall  f1-score   support\n",
      "\n",
      "        0.0       0.00      0.00      0.00        57\n",
      "        1.0       0.96      1.00      0.98      1362\n",
      "\n",
      "avg / total       0.92      0.96      0.94      1419\n",
      "\n"
     ]
    }
   ],
   "source": [
    "from sklearn import ensemble\n",
    "\n",
    "# gradient boosting \n",
    "clf = ensemble.GradientBoostingClassifier()\n",
    "clf.fit(X_train, y_train)\n",
    "\n",
    "predicted = clf.predict(X_test)\n",
    "probs_GB = clf.predict_proba(X_test)\n",
    "\n",
    "print (metrics.accuracy_score(y_test, predicted))\n",
    "print (metrics.roc_auc_score(y_test, probs_GB[:, 1]))\n",
    "\n",
    "print (metrics.confusion_matrix(y_test, predicted))\n",
    "print (metrics.classification_report(y_test, predicted)) "
   ]
  },
  {
   "cell_type": "code",
   "execution_count": 11,
   "metadata": {
    "collapsed": false
   },
   "outputs": [
    {
     "name": "stdout",
     "output_type": "stream",
     "text": [
      "0.482029598309\n",
      "0.5\n",
      "[[ 27  30]\n",
      " [705 657]]\n",
      "             precision    recall  f1-score   support\n",
      "\n",
      "        0.0       0.04      0.47      0.07        57\n",
      "        1.0       0.96      0.48      0.64      1362\n",
      "\n",
      "avg / total       0.92      0.48      0.62      1419\n",
      "\n"
     ]
    }
   ],
   "source": [
    "from sklearn.dummy import DummyClassifier\n",
    "\n",
    "# random baseline\n",
    "clf = DummyClassifier(strategy='uniform')\n",
    "clf.fit(X_train, y_train)\n",
    "\n",
    "predicted = clf.predict(X_test)\n",
    "probs_random = clf.predict_proba(X_test)\n",
    "\n",
    "print (metrics.accuracy_score(y_test, predicted))\n",
    "print (metrics.roc_auc_score(y_test, probs_random[:, 1]))\n",
    "\n",
    "print (metrics.confusion_matrix(y_test, predicted))\n",
    "print (metrics.classification_report(y_test, predicted)) "
   ]
  },
  {
   "cell_type": "code",
   "execution_count": 12,
   "metadata": {
    "collapsed": false
   },
   "outputs": [
    {
     "name": "stdout",
     "output_type": "stream",
     "text": [
      "0.959830866808\n",
      "0.586263750419\n",
      "[[   0   57]\n",
      " [   0 1362]]\n",
      "             precision    recall  f1-score   support\n",
      "\n",
      "        0.0       0.00      0.00      0.00        57\n",
      "        1.0       0.96      1.00      0.98      1362\n",
      "\n",
      "avg / total       0.92      0.96      0.94      1419\n",
      "\n"
     ]
    },
    {
     "name": "stderr",
     "output_type": "stream",
     "text": [
      "/usr/local/lib/python2.7/site-packages/sklearn/metrics/classification.py:1113: UndefinedMetricWarning: Precision and F-score are ill-defined and being set to 0.0 in labels with no predicted samples.\n",
      "  'precision', 'predicted', average, warn_for)\n"
     ]
    }
   ],
   "source": [
    "# svc\n",
    "from sklearn.svm import SVC\n",
    "clf = SVC(probability=True)\n",
    "clf.fit(X_train, y_train)\n",
    "\n",
    "predicted = clf.predict(X_test)\n",
    "probs_SVC = clf.predict_proba(X_test)\n",
    "\n",
    "print (metrics.accuracy_score(y_test, predicted))\n",
    "print (metrics.roc_auc_score(y_test, probs_GB[:, 1]))\n",
    "\n",
    "print (metrics.confusion_matrix(y_test, predicted))\n",
    "print (metrics.classification_report(y_test, predicted)) "
   ]
  },
  {
   "cell_type": "code",
   "execution_count": 13,
   "metadata": {
    "collapsed": false
   },
   "outputs": [
    {
     "name": "stdout",
     "output_type": "stream",
     "text": [
      "0.958421423538\n",
      "0.586263750419\n",
      "[[   1   56]\n",
      " [   3 1359]]\n",
      "             precision    recall  f1-score   support\n",
      "\n",
      "        0.0       0.25      0.02      0.03        57\n",
      "        1.0       0.96      1.00      0.98      1362\n",
      "\n",
      "avg / total       0.93      0.96      0.94      1419\n",
      "\n"
     ]
    }
   ],
   "source": [
    "# random forest\n",
    "from sklearn.ensemble import RandomForestClassifier\n",
    "clf = RandomForestClassifier(random_state=1)\n",
    "clf.fit(X_train, y_train)\n",
    "\n",
    "predicted = clf.predict(X_test)\n",
    "probs_RFC = clf.predict_proba(X_test)\n",
    "\n",
    "print (metrics.accuracy_score(y_test, predicted))\n",
    "print (metrics.roc_auc_score(y_test, probs_GB[:, 1]))\n",
    "\n",
    "print (metrics.confusion_matrix(y_test, predicted))\n",
    "print (metrics.classification_report(y_test, predicted)) "
   ]
  },
  {
   "cell_type": "code",
   "execution_count": 14,
   "metadata": {
    "collapsed": false
   },
   "outputs": [
    {
     "name": "stdout",
     "output_type": "stream",
     "text": [
      "0.957011980268\n",
      "0.464744828297\n",
      "[[   0   57]\n",
      " [   4 1358]]\n",
      "             precision    recall  f1-score   support\n",
      "\n",
      "        0.0       0.00      0.00      0.00        57\n",
      "        1.0       0.96      1.00      0.98      1362\n",
      "\n",
      "avg / total       0.92      0.96      0.94      1419\n",
      "\n"
     ]
    }
   ],
   "source": [
    "# neural net \n",
    "from sklearn.neural_network import MLPClassifier\n",
    "clf = MLPClassifier(solver='lbfgs', alpha=1e-5, hidden_layer_sizes=(15,), random_state=1)\n",
    "clf.fit(X_train, y_train)\n",
    "\n",
    "predicted = clf.predict(X_test)\n",
    "probs_NN = clf.predict_proba(X_test)\n",
    "\n",
    "print (metrics.accuracy_score(y_test, predicted))\n",
    "print (metrics.roc_auc_score(y_test, probs_NN[:, 1]))\n",
    "\n",
    "print (metrics.confusion_matrix(y_test, predicted))\n",
    "print (metrics.classification_report(y_test, predicted))"
   ]
  },
  {
   "cell_type": "code",
   "execution_count": 15,
   "metadata": {
    "collapsed": false
   },
   "outputs": [
    {
     "data": {
      "image/png": "[encoded data removed]",
      "text/plain": [
       "<matplotlib.figure.Figure at 0x1118e32d0>"
      ]
     },
     "metadata": {},
     "output_type": "display_data"
    }
   ],
   "source": [
    "from matplotlib import pyplot as plt\n",
    "\n",
    "# plot area under curve in order to compare multiple classifiers\n",
    "fpr, tpr, _ = metrics.roc_curve(y_test, probs_LR[:, 1]) #classifier 1\n",
    "fpr2, tpr2, _ = metrics.roc_curve(y_test, probs_GB[:, 1]) #classifier 2\n",
    "fpr3, tpr3, _ = metrics.roc_curve(y_test, probs_SVC[:, 1]) #classifier 3\n",
    "fpr4, tpr4, _ = metrics.roc_curve(y_test, probs_RFC[:, 1]) #classifier 3\n",
    "fpr5, tpr5, _ = metrics.roc_curve(y_test, probs_NN[:, 1]) #classifier 3\n",
    "\n",
    "plt.plot(fpr,tpr, color='red', label='log reg') \n",
    "plt.plot(fpr2,tpr2, color='green', label='gradient b')\n",
    "plt.plot(fpr3,tpr3, color='purple', label='SVC')\n",
    "plt.plot(fpr4,tpr4, color='blue', label='random forest')\n",
    "plt.plot(fpr5,tpr5, color='black', label='neural net')\n",
    "plt.plot([0, 1], [0, 1], color='navy', linestyle='--', label='random')\n",
    "plt.legend(loc=\"lower right\") \n",
    "plt.show()"
   ]
  },
  {
   "cell_type": "code",
   "execution_count": null,
   "metadata": {
    "collapsed": false
   },
   "outputs": [],
   "source": []
  },
  {
   "cell_type": "code",
   "execution_count": null,
   "metadata": {
    "collapsed": true
   },
   "outputs": [],
   "source": []
  },
  {
   "cell_type": "code",
   "execution_count": null,
   "metadata": {
    "collapsed": true
   },
   "outputs": [],
   "source": []
  }
 ],
 "metadata": {
  "kernelspec": {
   "display_name": "Python 2",
   "language": "python",
   "name": "python2"
  },
  "language_info": {
   "codemirror_mode": {
    "name": "ipython",
    "version": 2
   },
   "file_extension": ".py",
   "mimetype": "text/x-python",
   "name": "python",
   "nbconvert_exporter": "python",
   "pygments_lexer": "ipython2",
   "version": "2.7.11"
  }
 },
 "nbformat": 4,
 "nbformat_minor": 1
}
