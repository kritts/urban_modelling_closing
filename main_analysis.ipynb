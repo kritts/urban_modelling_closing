{
 "cells": [
  {
   "cell_type": "code",
   "execution_count": null,
   "metadata": {
    "collapsed": false
   },
   "outputs": [],
   "source": [
    "%matplotlib inline\n",
    "\n",
    "from dit.divergences import jensen_shannon_divergence\n",
    "from sklearn.metrics import mean_squared_error\n",
    "from matplotlib import pyplot as plt\n",
    "from dateutil.parser import parse\n",
    "import plotly.graph_objs as go\n",
    "from shapely.geometry import *\n",
    "from datetime import datetime  \n",
    "import plotly.plotly as py\n",
    "import scipy.stats as st\n",
    "import geopandas as gpd\n",
    "from scipy import stats\n",
    "import pandas as pd\n",
    "import numpy as np  \n",
    "import operator\n",
    "import geojson\n",
    "import math \n",
    "import sys \n",
    "import dit\n",
    "\n",
    "import numpy\n",
    "import pandas\n",
    "from keras.models import Sequential\n",
    "from keras.layers import Dense\n",
    "from keras.wrappers.scikit_learn import KerasClassifier\n",
    "from sklearn.model_selection import cross_val_score\n",
    "from sklearn.preprocessing import LabelEncoder\n",
    "from sklearn.model_selection import StratifiedKFold\n",
    "from sklearn.preprocessing import StandardScaler\n",
    "from sklearn.pipeline import Pipeline\n",
    " \n",
    "# path to data\n",
    "venues = \"../../../../raw_data/venues/Singapore_venues.txt\"\n",
    "transitions = \"../../../../raw_data/transitions/Singapore_transitions.txt\"\n",
    "\n",
    "# venue ID -> name\n",
    "venue_id_to_name = {} \n",
    "# venue ID -> coordinates for that venue\n",
    "venue_id_to_coords = {} \n",
    "# venue ID -> SPECIFIC category\n",
    "venue_id_to_category_specific = {} \n",
    "# venue ID -> GENERAL category\n",
    "venue_id_to_category_general = {} \n",
    "# venue ID -> opening date\n",
    "venue_id_to_opening = {}  \n",
    "\n",
    "### STEP 1: get all venues \n",
    "with open(venues, 'r') as f:\n",
    "    for rows in f:\n",
    "        rows = rows.split(\"\\t\")\n",
    "        # unique ID \n",
    "        ID = rows[0] \n",
    "        # name\n",
    "        name = rows[1]\n",
    "        venue_id_to_name[ID] = name \n",
    "        # coordinates \n",
    "        coordinates = (float(rows[2]), float(rows[3]))\n",
    "        venue_id_to_coords[ID] = coordinates  \n",
    "        # specific category\n",
    "        type_venue = rows[7]\n",
    "        venue_id_to_category_specific[ID] = type_venue  \n",
    "        # general categorgy\n",
    "        type_venue = rows[8]\n",
    "        venue_id_to_category_general[ID] = type_venue  \n",
    "        \n",
    "        # date\n",
    "        date = rows[9].strip()  \n",
    "        date_cleaned = datetime.strptime(date, '%Y-%m-%d')\n",
    "        venue_id_to_opening[ID] = date_cleaned\n",
    "        \n",
    "\n",
    "LIST_OF_VENUES = venue_id_to_opening.keys()\n",
    "\n",
    "# venue ID -> list of *FIRST* checkins to that venue       \n",
    "venue_id_to_times = {} \n",
    "with open(transitions, 'r') as f:\n",
    "    for rows in f:\n",
    "        rows = rows.split(\"\\t\")\n",
    "        location1 = rows[0]\n",
    "        time1 = rows[1] \n",
    "        if location1 in venue_id_to_coords:\n",
    "            venue_id_to_times.setdefault(location1, [])\n",
    "            time_cleaned = datetime.fromtimestamp(int(time1))\n",
    "            venue_id_to_times[location1].append(time_cleaned)\n",
    "             \n",
    "# venue id to the number of checkins to that venue \n",
    "venue_id_to_num = {}\n",
    "for v in LIST_OF_VENUES:\n",
    "    if v not in venue_id_to_times:\n",
    "        continue \n",
    "    venue_id_to_num[v] = len(venue_id_to_times[v])    \n",
    "    \n",
    " "
   ]
  },
  {
   "cell_type": "code",
   "execution_count": null,
   "metadata": {
    "collapsed": false
   },
   "outputs": [],
   "source": [
    "places_opened_to_num = {}\n",
    "for v in venue_id_to_opening: \n",
    "    if v not in venue_id_to_num: \n",
    "        continue \n",
    "    date = venue_id_to_opening[v]\n",
    "    year = date.year\n",
    "    month = date.month \n",
    "    places_opened_to_num[v] = venue_id_to_num[v]\n",
    "         \n",
    "# list of new venues that have at least 100 checkins \n",
    "venues_above_threshold = [venue for venue in places_opened_to_num if places_opened_to_num[venue] > 100]\n",
    "print len(venues_above_threshold)"
   ]
  },
  {
   "cell_type": "code",
   "execution_count": null,
   "metadata": {
    "collapsed": false,
    "scrolled": false
   },
   "outputs": [],
   "source": [
    "# check if there's data last 6 months\n",
    "# is there less than 12 checkins after july 2013\n",
    "venues_closed = set()\n",
    "# whether venue is open or closed \n",
    "venue_to_status = {}\n",
    "for v in venues_above_threshold:\n",
    "    if v not in venue_id_to_times: \n",
    "        continue\n",
    "    times = venue_id_to_times[v]\n",
    "    checkins_after = 0\n",
    "    for date in times:\n",
    "        year = date.year\n",
    "        month = date.month\n",
    "        if year == 2013 and month > 6 or year > 2014:\n",
    "            checkins_after += 1 \n",
    "    if checkins_after <= 6: # less than one checkin a month\n",
    "        venues_closed.add(v)     \n",
    "        venue_to_status[v] = 0\n",
    "    else: \n",
    "        venue_to_status[v] = 1 "
   ]
  },
  {
   "cell_type": "code",
   "execution_count": 5,
   "metadata": {
    "collapsed": false
   },
   "outputs": [
    {
     "name": "stdout",
     "output_type": "stream",
     "text": [
      "761 days, 0:00:00\n",
      "15171\n"
     ]
    }
   ],
   "source": [
    "num_closed = 0\n",
    "\n",
    "date_comparison = datetime.strptime('Jul2013', '%b%Y')\n",
    "max_possible = datetime.strptime('Jun2011', '%b%Y')   \n",
    "max_possible = date_comparison - max_possible\n",
    "arr_days_open = []\n",
    "\n",
    "for v in venues_above_threshold:  \n",
    "    num_closed += 1 \n",
    "    delta = date_comparison - venue_id_to_opening[v]\n",
    "    arr_days_open.append(delta.days) \n",
    "    \n",
    "print max_possible\n",
    "print len(arr_days_open)"
   ]
  },
  {
   "cell_type": "code",
   "execution_count": 178,
   "metadata": {
    "collapsed": false
   },
   "outputs": [
    {
     "data": {
      "text/plain": [
       "<matplotlib.text.Text at 0x1646cce50>"
      ]
     },
     "execution_count": 178,
     "metadata": {},
     "output_type": "execute_result"
    },
    {
     "data": {
      "image/png": "[encoded data removed]",
      "text/plain": [
       "<matplotlib.figure.Figure at 0x15a863d10>"
      ]
     },
     "metadata": {},
     "output_type": "display_data"
    }
   ],
   "source": [
    "plt.figure(figsize=(15, 5))\n",
    "array_bins, bins, patches = plt.hist(arr_days_open, 10, facecolor='blue', alpha=0.4, edgecolor=\"k\")\n",
    "plt.axvline(x=365, c='r')\n",
    "plt.axvline(x=365*2, c='r')\n",
    "plt.axvline(x=365*3, c='r')\n",
    "\n",
    "plt.xlabel('# of days venue stayed open')\n",
    "plt.ylabel('count')\n",
    "plt.title(\"lifespan of venues that close\")"
   ]
  },
  {
   "cell_type": "code",
   "execution_count": 13,
   "metadata": {
    "collapsed": false
   },
   "outputs": [],
   "source": [
    "from haversine import haversine\n",
    "# when people end up at this ward, from where do they come?\n",
    "# that same ward or a different ward?\n",
    "ward_to_num_inflow_transitions = {}\n",
    "# when people leave this ward, where do they go? \n",
    "# that same ward or a different ward?\n",
    "ward_to_num_outflow_transitions = {} \n",
    "# within \n",
    "ward_to_num_within_transitions = {}\n",
    "\n",
    "# speed and distance \n",
    "ward_to_speed_entering = {} \n",
    "ward_to_distance_entering = {}\n",
    "ward_to_speed_leaving = {}\n",
    "ward_to_distance_leaving = {}\n",
    "\n",
    "error_counter = 0\n",
    "\n",
    "with open(transitions, 'r') as f:\n",
    "    for rows in f:\n",
    "        rows = rows.split(\"\\t\")\n",
    "        location_1 = rows[0]\n",
    "        time1 = rows[1]\n",
    "        location_2 = rows[2]\n",
    "        time2 = rows[3]\n",
    "        \n",
    "        if location_1 not in venue_id_to_ward or location_2 not in venue_id_to_ward: \n",
    "            error_counter += 1\n",
    "            continue\n",
    "        ward_1 = venue_id_to_ward[location_1]\n",
    "        ward_2 = venue_id_to_ward[location_2]\n",
    "        if ward_1 == ward_2:\n",
    "            ward_to_num_within_transitions.setdefault(ward_2, 0)\n",
    "            ward_to_num_within_transitions[ward_2] += 1\n",
    "        else:  \n",
    "            ward_to_num_inflow_transitions.setdefault(ward_2, 0)\n",
    "            ward_to_num_inflow_transitions[ward_2] += 1 \n",
    "            \n",
    "            ward_to_num_outflow_transitions.setdefault(ward_1, 0)\n",
    "            ward_to_num_outflow_transitions[ward_1] += 1\n",
    "            \n",
    "            coords_1 = venue_id_to_coords[location_1]\n",
    "            coords_2 = venue_id_to_coords[location_2]\n",
    "            \n",
    "            distance_current = haversine(coords_1, coords_2)\n",
    "            ward_to_distance_entering.setdefault(ward_2, [])\n",
    "            ward_to_distance_entering[ward_2].append(distance_current)\n",
    "            ward_to_distance_leaving.setdefault(ward_1, [])\n",
    "            ward_to_distance_leaving[ward_1].append(distance_current)\n",
    "\n",
    "            # km/hrs\n",
    "            timeTravelled = int(time2) - int(time1)\n",
    "            timeTravelled = (timeTravelled / 60.0)/ 60.0\n",
    "            if timeTravelled > 0:\n",
    "                speed_current = distance_current / timeTravelled\n",
    "            else: \n",
    "                speed_current = 0\n",
    "            ward_to_speed_entering.setdefault(ward_2, [])\n",
    "            ward_to_speed_entering[ward_2].append(speed_current) \n",
    "            \n",
    "            ward_to_speed_leaving.setdefault(ward_1, [])\n",
    "            ward_to_speed_leaving[ward_1].append(speed_current)\n",
    "            \n",
    "            "
   ]
  },
  {
   "cell_type": "code",
   "execution_count": 59,
   "metadata": {
    "collapsed": false
   },
   "outputs": [],
   "source": [
    "# calculate entropy\n",
    "ward_to_entropy = {}\n",
    "for current_w in ward_to_set_venues: \n",
    "    \n",
    "    dict_cat_to_count = {}\n",
    "    list_venues = ward_to_set_venues[current_w]\n",
    "    for current_v in list_venues: \n",
    "        categ = venue_id_to_category_general[current_v]\n",
    "        dict_cat_to_count.setdefault(categ, 0)\n",
    "        dict_cat_to_count[categ] += 1\n",
    "        \n",
    "    sum_values = sum(dict_cat_to_count.values())\n",
    "    perc_dict = {}\n",
    "    for raw_vals in dict_cat_to_count: \n",
    "        perc_dict[raw_vals] = dict_cat_to_count[raw_vals] / float(sum_values)\n",
    "    \n",
    "    sum_vals = 0\n",
    "    for k, perc in perc_dict.items():  \n",
    "        sum_vals += perc * math.log(perc) \n",
    "    sum_vals *= -1\n",
    "    \n",
    "    entropy = sum_vals / len(perc_dict)\n",
    "    ward_to_entropy[current_w] = entropy "
   ]
  },
  {
   "cell_type": "code",
   "execution_count": 182,
   "metadata": {
    "collapsed": false,
    "scrolled": false
   },
   "outputs": [
    {
     "name": "stdout",
     "output_type": "stream",
     "text": [
      "GOAL:  15171\n",
      "100\n",
      "200\n",
      "300\n",
      "400\n",
      "500\n",
      "600\n",
      "700\n",
      "800\n",
      "900\n",
      "1000\n",
      "1100\n",
      "1200\n",
      "1300\n",
      "1400\n",
      "1500\n",
      "1600\n",
      "1700\n",
      "1800\n",
      "1900\n",
      "2000\n",
      "2100\n",
      "2200\n",
      "2300\n",
      "2400\n",
      "2500\n",
      "2600\n",
      "2700\n",
      "2800\n",
      "2900\n",
      "3000\n",
      "3100\n",
      "3200\n",
      "3300\n",
      "3400\n",
      "3500\n",
      "3600\n",
      "3700\n",
      "3800\n",
      "3900\n",
      "4000\n",
      "4100\n",
      "4200\n",
      "4300\n",
      "4400\n",
      "4500\n",
      "4600\n",
      "4700\n",
      "4800\n",
      "4900\n",
      "5000\n",
      "5100\n",
      "5200\n",
      "5300\n",
      "5400\n",
      "5500\n",
      "5600\n",
      "5700\n",
      "5800\n",
      "5900\n",
      "6000\n",
      "6100\n",
      "6200\n",
      "6300\n",
      "6400\n",
      "6500\n",
      "6600\n",
      "6700\n",
      "6800\n",
      "6900\n",
      "7000\n",
      "7100\n",
      "7200\n",
      "7300\n",
      "7400\n",
      "7500\n",
      "7600\n",
      "7700\n",
      "7800\n",
      "7900\n",
      "8000\n",
      "8100\n",
      "8200\n",
      "8300\n",
      "8400\n",
      "8500\n",
      "8600\n",
      "8700\n",
      "8800\n",
      "8900\n",
      "9000\n",
      "9100\n",
      "9200\n",
      "9300\n",
      "9400\n",
      "9500\n",
      "9600\n",
      "9700\n",
      "9800\n",
      "9900\n",
      "10000\n",
      "10100\n",
      "10200\n",
      "10300\n",
      "10400\n",
      "10500\n",
      "10600\n",
      "10700\n",
      "10800\n",
      "10900\n",
      "11000\n",
      "11100\n",
      "11200\n",
      "11300\n",
      "11400\n",
      "11500\n",
      "11600\n",
      "11700\n",
      "11800\n",
      "11900\n",
      "12000\n",
      "12100\n",
      "12200\n",
      "12300\n",
      "12400\n",
      "12500\n",
      "12600\n",
      "12700\n",
      "12800\n",
      "12900\n",
      "13000\n",
      "13100\n",
      "13200\n",
      "13300\n",
      "13400\n",
      "13500\n",
      "13600\n",
      "13700\n",
      "13800\n",
      "13900\n",
      "14000\n",
      "14100\n",
      "14200\n",
      "14300\n",
      "14400\n",
      "14500\n",
      "14600\n",
      "14700\n",
      "14800\n",
      "14900\n",
      "15000\n",
      "15100\n"
     ]
    }
   ],
   "source": [
    "print \"GOAL: \", len(venues_above_threshold)\n",
    "i = 0\n",
    "venue_to_set = {}\n",
    "for v in venues_above_threshold: \n",
    "    i += 1\n",
    "    venue_to_set.setdefault(v, set())\n",
    "    c1 = venue_id_to_coords[v]\n",
    "    for v2 in venue_id_to_coords: \n",
    "        if v2 == v: \n",
    "            continue\n",
    "        c2 = venue_id_to_coords[v2]\n",
    "        distance = haversine(c1, c2)\n",
    "        if distance < 5:  \n",
    "            venue_to_set[v].add(v2) \n",
    "    if i % 500 == 0: \n",
    "        print i"
   ]
  },
  {
   "cell_type": "code",
   "execution_count": 187,
   "metadata": {
    "collapsed": false,
    "scrolled": false
   },
   "outputs": [],
   "source": [
    "outer = []\n",
    "for v in venue_to_set: \n",
    "    inner = []\n",
    "    inner.append(v) \n",
    "    set_vals = venue_to_set[v]\n",
    "    for inner_v in set_vals: \n",
    "        inner.append(inner_v)\n",
    "    outer.append(inner)"
   ]
  },
  {
   "cell_type": "code",
   "execution_count": 188,
   "metadata": {
    "collapsed": false
   },
   "outputs": [],
   "source": [
    "import json\n",
    "  \n",
    "with open('nearby_venues.txt', 'w') as f:\n",
    "    json.dump(outer, f)"
   ]
  },
  {
   "cell_type": "code",
   "execution_count": 189,
   "metadata": {
    "collapsed": false
   },
   "outputs": [],
   "source": [
    "with open('nearby_venues.txt') as f:\n",
    "    a = json.load(f)"
   ]
  },
  {
   "cell_type": "code",
   "execution_count": 190,
   "metadata": {
    "collapsed": false
   },
   "outputs": [
    {
     "name": "stdout",
     "output_type": "stream",
     "text": [
      "15171\n"
     ]
    }
   ],
   "source": [
    "print len(a)"
   ]
  },
  {
   "cell_type": "code",
   "execution_count": 94,
   "metadata": {
    "collapsed": false
   },
   "outputs": [
    {
     "name": "stdout",
     "output_type": "stream",
     "text": [
      "220\n",
      "220\n",
      "202\n",
      "202\n",
      "308\n",
      "25\n",
      "61\n"
     ]
    }
   ],
   "source": [
    "all_general = list(set(venue_id_to_category_general.values()))\n",
    "all_specific = list(set(venue_id_to_category_specific.values()))\n",
    "\n",
    "myData = np.array([[\"venue\", \"ward\", \"within\", \"in\", \"out\", \"ratio in\", \"ratio out\", \\\n",
    "                    \"ratio in/out\", \"distance\",\"speed\",\"dis_std\", \"spe_std\", \"dis_lv\", \\\n",
    "                    \"spe_lv\", \"dis_lv_std\", \"spe_lv_std\", \"spec\", \"gen\", \"entropy\",\"closed or open\"]])\n",
    "NUM_FEATURES = 19\n",
    "count = 0\n",
    "for new_venue in venues_above_threshold: \n",
    "    # travel out of city bounds \n",
    "    if new_venue not in venue_id_to_ward:  \n",
    "        continue \n",
    "    inner = np.array([])\n",
    "    new_ward = venue_id_to_ward[new_venue] \n",
    "    if new_ward not in ward_to_num_within_transitions or new_ward not in ward_to_num_inflow_transitions:  \n",
    "        print new_ward\n",
    "        continue\n",
    "    if new_ward not in ward_to_num_outflow_transitions or new_venue not in venue_to_status: \n",
    "        continue \n",
    "    if new_venue not in venue_id_to_category_specific or new_venue not in venue_id_to_category_general: \n",
    "        continue\n",
    "    if new_ward not in ward_to_distance_entering or new_ward not in ward_to_speed_entering:\n",
    "        print new_venue\n",
    "        continue\n",
    "         \n",
    "    within = ward_to_num_within_transitions[new_ward]\n",
    "    inflow = ward_to_num_inflow_transitions[new_ward]\n",
    "    outflow = ward_to_num_outflow_transitions[new_ward]\n",
    "    status = venue_to_status[new_venue]\n",
    "    spec = venue_id_to_category_specific[new_venue]\n",
    "    gen = venue_id_to_category_general[new_venue]\n",
    "    \n",
    "    dis_avg = np.mean(ward_to_distance_entering[new_ward])\n",
    "    speed_avg = np.mean(ward_to_speed_entering[new_ward])\n",
    "    dis_std = np.std(ward_to_distance_entering[new_ward])\n",
    "    speed_std = np.std(ward_to_speed_entering[new_ward])\n",
    "    \n",
    "    dis_avg_lea = np.mean(ward_to_distance_leaving[new_ward])\n",
    "    speed_avg_lea = np.mean(ward_to_speed_leaving[new_ward])\n",
    "    dis_std_lea = np.std(ward_to_distance_leaving[new_ward])\n",
    "    speed_std_lea = np.std(ward_to_speed_leaving[new_ward])\n",
    "    \n",
    "    entropy = ward_to_entropy[new_ward]\n",
    "    \n",
    "    index_spec = all_specific.index(spec)\n",
    "    index_gen = all_general.index(gen) \n",
    "      \n",
    "    inner = np.append(inner, count)\n",
    "    inner = np.append(inner, new_ward)\n",
    "    inner = np.append(inner, within)\n",
    "    inner = np.append(inner, inflow)\n",
    "    inner = np.append(inner, outflow)    \n",
    "    inner = np.append(inner, float(within) / inflow)\n",
    "    inner = np.append(inner, float(within) / outflow)\n",
    "    inner = np.append(inner, float(inflow) / outflow)\n",
    "    inner = np.append(inner, dis_avg)  \n",
    "    inner = np.append(inner, speed_avg)\n",
    "    inner = np.append(inner, dis_std)\n",
    "    inner = np.append(inner, speed_std)\n",
    "    inner = np.append(inner, dis_avg_lea)\n",
    "    inner = np.append(inner, speed_avg_lea)\n",
    "    inner = np.append(inner, dis_std_lea)\n",
    "    inner = np.append(inner, speed_std_lea)\n",
    "    \n",
    "    inner = np.append(inner, entropy)\n",
    "    \n",
    "    inner = np.append(inner, index_spec)\n",
    "    inner = np.append(inner, index_gen)\n",
    "    \n",
    "    # output\n",
    "    inner = np.append(inner, status)  \n",
    "    myData = np.concatenate([myData, [inner]])   \n",
    "    count += 1"
   ]
  },
  {
   "cell_type": "code",
   "execution_count": 95,
   "metadata": {
    "collapsed": false
   },
   "outputs": [
    {
     "data": {
      "text/plain": [
       "14928"
      ]
     },
     "execution_count": 95,
     "metadata": {},
     "output_type": "execute_result"
    }
   ],
   "source": [
    "count"
   ]
  },
  {
   "cell_type": "code",
   "execution_count": 96,
   "metadata": {
    "collapsed": false
   },
   "outputs": [
    {
     "name": "stdout",
     "output_type": "stream",
     "text": [
      "Writing complete\n"
     ]
    }
   ],
   "source": [
    "import csv\n",
    "myFile = open('features.csv', 'w')\n",
    "with myFile:\n",
    "    writer = csv.writer(myFile)\n",
    "    writer.writerows(myData)  \n",
    "print(\"Writing complete\")"
   ]
  },
  {
   "cell_type": "code",
   "execution_count": 97,
   "metadata": {
    "collapsed": true
   },
   "outputs": [],
   "source": [
    "# fix random seed for reproducibility\n",
    "seed = 7\n",
    "numpy.random.seed(seed)"
   ]
  },
  {
   "cell_type": "code",
   "execution_count": 98,
   "metadata": {
    "collapsed": false,
    "scrolled": false
   },
   "outputs": [
    {
     "name": "stdout",
     "output_type": "stream",
     "text": [
      "1.0    0.724046\n",
      "0.0    0.275954\n",
      "dtype: float64\n",
      "1.0    0.723999\n",
      "0.0    0.276001\n",
      "dtype: float64\n"
     ]
    }
   ],
   "source": [
    "from sklearn.model_selection import train_test_split\n",
    "from sklearn.preprocessing import StandardScaler\n",
    "from sklearn import metrics\n",
    "\n",
    "\n",
    "dataframe = pandas.read_csv(\"features.csv\", header=None)\n",
    "dataset = dataframe.values \n",
    "\n",
    "X = dataset[:, 0:NUM_FEATURES]\n",
    "y = dataset[:, NUM_FEATURES]\n",
    "\n",
    "\n",
    "X_train, X_test, y_train, y_test = train_test_split(X, y, test_size=0.2, random_state=42,stratify=y)\n",
    "from sklearn.model_selection import train_test_split\n",
    "from sklearn.preprocessing import StandardScaler\n",
    "from sklearn import metrics\n",
    "\n",
    "\n",
    "std_scale = StandardScaler().fit(X_train)\n",
    "X_train = std_scale.transform(X_train)\n",
    "X_test = std_scale.transform(X_test)\n",
    "\n",
    "X_train.shape, X_test.shape, y_train.shape, y_test.shape\n",
    "\n",
    "#print the distribution of classes on train/test\n",
    "\n",
    "print pd.value_counts(pd.Series(y_test), normalize=True)\n",
    "\n",
    "print pd.value_counts(pd.Series(y_train), normalize=True)\n"
   ]
  },
  {
   "cell_type": "code",
   "execution_count": 99,
   "metadata": {
    "collapsed": false
   },
   "outputs": [
    {
     "data": {
      "text/plain": [
       "array([ 1.,  1.,  1., ...,  0.,  1.,  1.])"
      ]
     },
     "execution_count": 99,
     "metadata": {},
     "output_type": "execute_result"
    }
   ],
   "source": [
    "y"
   ]
  },
  {
   "cell_type": "code",
   "execution_count": 100,
   "metadata": {
    "collapsed": false
   },
   "outputs": [
    {
     "name": "stdout",
     "output_type": "stream",
     "text": [
      "0.563965170797\n",
      "0.566247990444\n",
      "[[ 422  402]\n",
      " [ 900 1262]]\n",
      "             precision    recall  f1-score   support\n",
      "\n",
      "        0.0       0.32      0.51      0.39       824\n",
      "        1.0       0.76      0.58      0.66      2162\n",
      "\n",
      "avg / total       0.64      0.56      0.59      2986\n",
      "\n",
      "           0\n",
      "0  -0.008381\n",
      "1  -0.191882\n",
      "2  -0.083083\n",
      "3   0.139608\n",
      "4  -0.061889\n",
      "5   0.322152\n",
      "6  -0.254702\n",
      "7   0.064089\n",
      "8   0.170968\n",
      "9  -0.014757\n",
      "10  0.051564\n",
      "11  0.079443\n",
      "12  0.074045\n",
      "13 -0.025985\n",
      "14 -0.231204\n",
      "15 -0.036415\n",
      "16 -0.014137\n",
      "17 -0.154038\n",
      "18 -0.058313\n"
     ]
    }
   ],
   "source": [
    "\n",
    "from sklearn.linear_model import LogisticRegression\n",
    "\n",
    "#logistic regression\n",
    "model = LogisticRegression(class_weight='balanced')\n",
    "model.fit(X_train, y_train)\n",
    "\n",
    "predicted = model.predict(X_test)\n",
    "probs_LR = model.predict_proba(X_test)\n",
    "\n",
    "print (metrics.accuracy_score(y_test, predicted))\n",
    "print (metrics.roc_auc_score(y_test, probs_LR[:, 1]))\n",
    "\n",
    "print (metrics.confusion_matrix(y_test, predicted))\n",
    "print (metrics.classification_report(y_test, predicted))\n",
    "\n",
    "#logistic regression coefficients\n",
    "# print pd.DataFrame(X.columns) # NEED TO ADD LABEL TO COLUMNS\n",
    "print pd.DataFrame(np.transpose(model.coef_)) "
   ]
  },
  {
   "cell_type": "code",
   "execution_count": 101,
   "metadata": {
    "collapsed": false
   },
   "outputs": [
    {
     "name": "stdout",
     "output_type": "stream",
     "text": [
      "0.725720026792\n",
      "0.621877048849\n",
      "[[  23  801]\n",
      " [  18 2144]]\n",
      "             precision    recall  f1-score   support\n",
      "\n",
      "        0.0       0.56      0.03      0.05       824\n",
      "        1.0       0.73      0.99      0.84      2162\n",
      "\n",
      "avg / total       0.68      0.73      0.62      2986\n",
      "\n",
      "0.506697923644\n",
      "0.5\n",
      "[[ 430  394]\n",
      " [1079 1083]]\n",
      "             precision    recall  f1-score   support\n",
      "\n",
      "        0.0       0.28      0.52      0.37       824\n",
      "        1.0       0.73      0.50      0.60      2162\n",
      "\n",
      "avg / total       0.61      0.51      0.53      2986\n",
      "\n"
     ]
    }
   ],
   "source": [
    "\n",
    "#gradient boosting \n",
    "from sklearn import ensemble\n",
    "clf = ensemble.GradientBoostingClassifier()\n",
    "clf.fit(X_train, y_train)\n",
    "\n",
    "predicted = clf.predict(X_test)\n",
    "probs_GB = clf.predict_proba(X_test)\n",
    "\n",
    "print (metrics.accuracy_score(y_test, predicted))\n",
    "print (metrics.roc_auc_score(y_test, probs_GB[:, 1]))\n",
    "\n",
    "print (metrics.confusion_matrix(y_test, predicted))\n",
    "print (metrics.classification_report(y_test, predicted))\n",
    "\n",
    "#random baseline\n",
    "from sklearn.dummy import DummyClassifier\n",
    "clf = DummyClassifier(strategy='uniform')\n",
    "clf.fit(X_train, y_train)\n",
    "\n",
    "predicted = clf.predict(X_test)\n",
    "probs = clf.predict_proba(X_test)\n",
    "\n",
    "print (metrics.accuracy_score(y_test, predicted))\n",
    "print (metrics.roc_auc_score(y_test, probs[:, 1]))\n",
    "\n",
    "print (metrics.confusion_matrix(y_test, predicted))\n",
    "print (metrics.classification_report(y_test, predicted)) "
   ]
  },
  {
   "cell_type": "code",
   "execution_count": 80,
   "metadata": {
    "collapsed": false
   },
   "outputs": [
    {
     "name": "stdout",
     "output_type": "stream",
     "text": [
      "Results: 71.76% (1.91%)\n"
     ]
    }
   ],
   "source": [
    "def create_baseline(): \n",
    "    model = Sequential()\n",
    "    model.add(Dense(1, input_dim=NUM_FEATURES, kernel_initializer='normal', activation='relu')) # intially 60\n",
    "    model.add(Dense(1, kernel_initializer='normal', activation='sigmoid')) \n",
    "    model.compile(loss='binary_crossentropy', optimizer='adam', metrics=['accuracy']) \n",
    "    return model  \n",
    "\n",
    "estimator = KerasClassifier(build_fn=create_baseline, nb_epoch=100, batch_size=5, verbose=0)\n",
    "kfold = StratifiedKFold(n_splits=10, shuffle=True, random_state=seed)\n",
    "results = cross_val_score(estimator, X, Y, cv=kfold)\n",
    "print(\"Results: %.2f%% (%.2f%%)\" % (results.mean()*100, results.std()*100)) "
   ]
  },
  {
   "cell_type": "code",
   "execution_count": 102,
   "metadata": {
    "collapsed": false
   },
   "outputs": [
    {
     "name": "stdout",
     "output_type": "stream",
     "text": [
      "0.719691895512\n",
      "0.560478094716\n",
      "[[  44  780]\n",
      " [  57 2105]]\n",
      "             precision    recall  f1-score   support\n",
      "\n",
      "        0.0       0.44      0.05      0.10       824\n",
      "        1.0       0.73      0.97      0.83      2162\n",
      "\n",
      "avg / total       0.65      0.72      0.63      2986\n",
      "\n"
     ]
    }
   ],
   "source": [
    "from sklearn.neural_network import MLPClassifier\n",
    "clf = MLPClassifier(solver='lbfgs', alpha=1e-5, hidden_layer_sizes=(15,), random_state=1)\n",
    "clf.fit(X_train, y_train)\n",
    "\n",
    "predicted = clf.predict(X_test)\n",
    "probs_NN = clf.predict_proba(X_test)\n",
    "\n",
    "print (metrics.accuracy_score(y_test, predicted))\n",
    "print (metrics.roc_auc_score(y_test, probs_NN[:, 1]))\n",
    "\n",
    "print (metrics.confusion_matrix(y_test, predicted))\n",
    "print (metrics.classification_report(y_test, predicted))\n"
   ]
  },
  {
   "cell_type": "code",
   "execution_count": 103,
   "metadata": {
    "collapsed": false
   },
   "outputs": [
    {
     "data": {
      "text/plain": [
       "<matplotlib.legend.Legend at 0x156c7f650>"
      ]
     },
     "execution_count": 103,
     "metadata": {},
     "output_type": "execute_result"
    },
    {
     "data": {
      "image/png": "[encoded data removed]",
      "text/plain": [
       "<matplotlib.figure.Figure at 0x15a874c10>"
      ]
     },
     "metadata": {},
     "output_type": "display_data"
    }
   ],
   "source": [
    "#plot area under curve in order to compare multiple classifiers\n",
    "fpr, tpr, _ = metrics.roc_curve(y_test, probs_GB[:, 1]) #classifier 1\n",
    "fpr2, tpr2, _ = metrics.roc_curve(y_test, probs_LR[:, 1]) #classifier 2\n",
    "fpr3, tpr3, _ = metrics.roc_curve(y_test, probs_NN[:, 1]) #classifier 3\n",
    "\n",
    "plt.plot(fpr,tpr, color='red', label='gradient b') \n",
    "plt.plot(fpr2,tpr2, color='green', label='log reg')\n",
    "plt.plot(fpr3,tpr3, color='black', label='neural net')\n",
    "plt.plot([0, 1], [0, 1], color='navy', linestyle='--', label='random')\n",
    "plt.legend(loc=\"lower right\") "
   ]
  },
  {
   "cell_type": "code",
   "execution_count": null,
   "metadata": {
    "collapsed": true
   },
   "outputs": [],
   "source": []
  }
 ],
 "metadata": {
  "kernelspec": {
   "display_name": "Python 2",
   "language": "python",
   "name": "python2"
  },
  "language_info": {
   "codemirror_mode": {
    "name": "ipython",
    "version": 2
   },
   "file_extension": ".py",
   "mimetype": "text/x-python",
   "name": "python",
   "nbconvert_exporter": "python",
   "pygments_lexer": "ipython2",
   "version": "2.7.11"
  }
 },
 "nbformat": 4,
 "nbformat_minor": 1
}
