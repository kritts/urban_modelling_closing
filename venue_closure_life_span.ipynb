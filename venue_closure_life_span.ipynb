{
 "cells": [
  {
   "cell_type": "code",
   "execution_count": 5,
   "metadata": {
    "collapsed": false
   },
   "outputs": [],
   "source": [
    "%matplotlib inline\n",
    " \n",
    "from dit.divergences import jensen_shannon_divergence\n",
    "from sklearn.metrics import mean_squared_error\n",
    "from matplotlib import pyplot as plt\n",
    "from dateutil.parser import parse\n",
    "import plotly.graph_objs as go\n",
    "from shapely.geometry import *\n",
    "from datetime import datetime  \n",
    "import plotly.plotly as py\n",
    "import scipy.stats as st\n",
    "import geopandas as gpd\n",
    "from scipy import stats\n",
    "import pandas as pd\n",
    "import numpy as np  \n",
    "import operator\n",
    "import geojson\n",
    "import math \n",
    "import sys \n",
    "import dit\n",
    "import numpy\n",
    "import pandas \n",
    " \n",
    "# path to data\n",
    "venues = \"../../../../raw_data/venues/Singapore_venues.txt\"\n",
    "transitions = \"../../../../raw_data/transitions/Singapore_transitions.txt\"\n",
    "   \n",
    "# venue ID -> opening date\n",
    "venue_id_to_opening = {}  \n",
    "\n",
    "### STEP 1: get all venues \n",
    "with open(venues, 'r') as f:\n",
    "    for rows in f:\n",
    "        rows = rows.split(\"\\t\")\n",
    "        # unique ID \n",
    "        ID = rows[0]  \n",
    "        # date\n",
    "        date = rows[9].strip()  \n",
    "        date_cleaned = datetime.strptime(date, '%Y-%m-%d')\n",
    "        venue_id_to_opening[ID] = date_cleaned\n",
    "    \n",
    "# venue ID -> list of *FIRST* checkins to that venue       \n",
    "venue_id_to_times = {} \n",
    "with open(transitions, 'r') as f:\n",
    "    for rows in f:\n",
    "        rows = rows.split(\"\\t\")\n",
    "        location1 = rows[0]\n",
    "        time1 = rows[1] \n",
    "        if location1 in venue_id_to_opening:\n",
    "            venue_id_to_times.setdefault(location1, [])\n",
    "            time_cleaned = datetime.fromtimestamp(int(time1))\n",
    "            venue_id_to_times[location1].append(time_cleaned)\n",
    "             \n",
    "# venue id to the number of checkins to that venue \n",
    "venue_id_to_num = {}\n",
    "for v in venue_id_to_opening:\n",
    "    if v not in venue_id_to_times:\n",
    "        continue \n",
    "    venue_id_to_num[v] = len(venue_id_to_times[v])    \n",
    "\n",
    "# venue id to the number of checkins to that venue \n",
    "venue_id_to_num = {}\n",
    "for v in venue_id_to_opening:\n",
    "    if v not in venue_id_to_times:\n",
    "        continue \n",
    "    venue_id_to_num[v] = len(venue_id_to_times[v])\n",
    "      "
   ]
  },
  {
   "cell_type": "code",
   "execution_count": 6,
   "metadata": {
    "collapsed": false
   },
   "outputs": [
    {
     "name": "stdout",
     "output_type": "stream",
     "text": [
      "15171\n"
     ]
    }
   ],
   "source": [
    "places_opened_to_num = {}\n",
    "for v in venue_id_to_opening: \n",
    "    if v not in venue_id_to_num: \n",
    "        continue \n",
    "    date = venue_id_to_opening[v]\n",
    "    year = date.year\n",
    "    month = date.month \n",
    "    places_opened_to_num[v] = venue_id_to_num[v]\n",
    "         \n",
    "# list of new venues that have at least 100 checkins \n",
    "venues_above_threshold = [venue for venue in places_opened_to_num if places_opened_to_num[venue] > 100]\n",
    "print len(venues_above_threshold)"
   ]
  },
  {
   "cell_type": "code",
   "execution_count": 7,
   "metadata": {
    "collapsed": true
   },
   "outputs": [],
   "source": [
    "# check if there's data last 6 months\n",
    "# is there less than 12 checkins after july 2013\n",
    "venues_closed = set()\n",
    "# whether venue is open or closed \n",
    "venue_to_status = {}\n",
    "for v in venues_above_threshold:\n",
    "    if v not in venue_id_to_times: \n",
    "        continue\n",
    "    times = venue_id_to_times[v]\n",
    "    checkins_after = 0\n",
    "    for date in times:\n",
    "        year = date.year\n",
    "        month = date.month\n",
    "        if year == 2013 and month > 6 or year > 2014:\n",
    "            checkins_after += 1 \n",
    "    if checkins_after <= 6: # less than one checkin a month\n",
    "        venues_closed.add(v)     \n",
    "        venue_to_status[v] = 0\n",
    "    else: \n",
    "        venue_to_status[v] = 1 "
   ]
  },
  {
   "cell_type": "code",
   "execution_count": 8,
   "metadata": {
    "collapsed": false
   },
   "outputs": [
    {
     "name": "stdout",
     "output_type": "stream",
     "text": [
      "761 days, 0:00:00\n",
      "15171\n"
     ]
    }
   ],
   "source": [
    "num_closed = 0\n",
    "\n",
    "date_comparison = datetime.strptime('Jul2013', '%b%Y')\n",
    "max_possible = datetime.strptime('Jun2011', '%b%Y')   \n",
    "max_possible = date_comparison - max_possible\n",
    "arr_days_open = []\n",
    "\n",
    "for v in venues_above_threshold:  \n",
    "    num_closed += 1 \n",
    "    delta = date_comparison - venue_id_to_opening[v]\n",
    "    arr_days_open.append(delta.days) \n",
    "    \n",
    "print max_possible\n",
    "print len(arr_days_open)"
   ]
  },
  {
   "cell_type": "code",
   "execution_count": 9,
   "metadata": {
    "collapsed": false
   },
   "outputs": [
    {
     "data": {
      "text/plain": [
       "<matplotlib.text.Text at 0x12c2e4fd0>"
      ]
     },
     "execution_count": 9,
     "metadata": {},
     "output_type": "execute_result"
    },
    {
     "data": {
      "image/png": "[encoded data removed]",
      "text/plain": [
       "<matplotlib.figure.Figure at 0x1036acb50>"
      ]
     },
     "metadata": {},
     "output_type": "display_data"
    }
   ],
   "source": [
    "plt.figure(figsize=(15, 5))\n",
    "array_bins, bins, patches = plt.hist(arr_days_open, 10, facecolor='blue', alpha=0.4, edgecolor=\"k\")\n",
    "plt.axvline(x=365, c='r')\n",
    "plt.axvline(x=365*2, c='r')\n",
    "plt.axvline(x=365*3, c='r')\n",
    "\n",
    "plt.xlabel('# of days venue stayed open')\n",
    "plt.ylabel('count')\n",
    "plt.title(\"lifespan of venues that close\")"
   ]
  },
  {
   "cell_type": "code",
   "execution_count": null,
   "metadata": {
    "collapsed": true
   },
   "outputs": [],
   "source": []
  }
 ],
 "metadata": {
  "kernelspec": {
   "display_name": "Python 2",
   "language": "python",
   "name": "python2"
  },
  "language_info": {
   "codemirror_mode": {
    "name": "ipython",
    "version": 2
   },
   "file_extension": ".py",
   "mimetype": "text/x-python",
   "name": "python",
   "nbconvert_exporter": "python",
   "pygments_lexer": "ipython2",
   "version": "2.7.11"
  }
 },
 "nbformat": 4,
 "nbformat_minor": 1
}
